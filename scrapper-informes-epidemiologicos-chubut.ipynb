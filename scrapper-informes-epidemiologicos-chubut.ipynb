{
 "cells": [
  {
   "cell_type": "code",
   "execution_count": 9,
   "metadata": {},
   "outputs": [
    {
     "name": "stdout",
     "output_type": "stream",
     "text": [
      "Inicio de la descarga: Boletín EpiChubut SE 38 2023\n"
     ]
    },
    {
     "name": "stderr",
     "output_type": "stream",
     "text": [
      "Downloading...\n",
      "From: https://drive.google.com/uc?id=1nUgIUev1hsPqLMh_rVTs-dEYa2ShO1Gm\n",
      "To: /home/leomorales/work/projects/programa-salud-chubut/pdfs/Boletín EpiChubut SE 38 2023.pdf\n",
      "100%|██████████| 488k/488k [00:00<00:00, 2.72MB/s]\n"
     ]
    },
    {
     "name": "stdout",
     "output_type": "stream",
     "text": [
      "Fin de la descarga: pdfs/Boletín EpiChubut SE 38 2023.pdf\n",
      "Inicio de la descarga: Boletín EpiChubut SE21 2023\n",
      "Error al descargar Boletín EpiChubut SE21 2023: Failed to retrieve file url:\n",
      "\n",
      "\tCannot retrieve the public link of the file. You may need to change\n",
      "\tthe permission to 'Anyone with the link', or have had many accesses.\n",
      "\tCheck FAQ in https://github.com/wkentaro/gdown?tab=readme-ov-file#faq.\n",
      "\n",
      "You may still be able to access the file from the browser:\n",
      "\n",
      "\thttps://drive.google.com/uc?id=1ZDy72RwZEsNxb2DQRqUUDgVXIkIUDHpQ\n",
      "\n",
      "but Gdown can't. Please check connections and permissions.\n",
      "Inicio de la descarga: Boletín EpiChubut SE19 2023\n",
      "Error al descargar Boletín EpiChubut SE19 2023: Failed to retrieve file url:\n",
      "\n",
      "\tCannot retrieve the public link of the file. You may need to change\n",
      "\tthe permission to 'Anyone with the link', or have had many accesses.\n",
      "\tCheck FAQ in https://github.com/wkentaro/gdown?tab=readme-ov-file#faq.\n",
      "\n",
      "You may still be able to access the file from the browser:\n",
      "\n",
      "\thttps://drive.google.com/uc?id=1-3pepHe4wgGMWSLRSizA5rxe7lEe3bJB\n",
      "\n",
      "but Gdown can't. Please check connections and permissions.\n",
      "Inicio de la descarga: Circular Enfermedad Febril Exantemática SE 41\n"
     ]
    },
    {
     "name": "stderr",
     "output_type": "stream",
     "text": [
      "Downloading...\n",
      "From: https://drive.google.com/uc?id=1W15z-W73MA6P2ygOvy4FniOgnRf4qHca\n",
      "To: /home/leomorales/work/projects/programa-salud-chubut/pdfs/Circular Enfermedad Febril Exantemática SE 41.pdf\n",
      "100%|██████████| 247k/247k [00:00<00:00, 1.93MB/s]\n"
     ]
    },
    {
     "name": "stdout",
     "output_type": "stream",
     "text": [
      "Fin de la descarga: pdfs/Circular Enfermedad Febril Exantemática SE 41.pdf\n",
      "Inicio de la descarga: Boletín EpiChubut SE 41 2023\n"
     ]
    },
    {
     "name": "stderr",
     "output_type": "stream",
     "text": [
      "Downloading...\n",
      "From: https://drive.google.com/uc?id=1wTbEvMm192tV69N55-vS3wU4qUY_ht_L\n",
      "To: /home/leomorales/work/projects/programa-salud-chubut/pdfs/Boletín EpiChubut SE 41 2023.pdf\n",
      "100%|██████████| 454k/454k [00:00<00:00, 2.65MB/s]\n"
     ]
    },
    {
     "name": "stdout",
     "output_type": "stream",
     "text": [
      "Fin de la descarga: pdfs/Boletín EpiChubut SE 41 2023.pdf\n",
      "Inicio de la descarga: Boletín EpiChubut SE22 2023\n"
     ]
    },
    {
     "name": "stderr",
     "output_type": "stream",
     "text": [
      "Downloading...\n",
      "From: https://drive.google.com/uc?id=1QBkOsgZwLMO5S8-d6vPLEK_sUr2wjgSJ\n",
      "To: /home/leomorales/work/projects/programa-salud-chubut/pdfs/Boletín EpiChubut SE22 2023.pdf\n",
      "100%|██████████| 2.00M/2.00M [00:00<00:00, 4.02MB/s]\n"
     ]
    },
    {
     "name": "stdout",
     "output_type": "stream",
     "text": [
      "Fin de la descarga: pdfs/Boletín EpiChubut SE22 2023.pdf\n",
      "Inicio de la descarga: Guia Infecciones Respiratorias Agudas actualización 2023\n"
     ]
    },
    {
     "name": "stderr",
     "output_type": "stream",
     "text": [
      "Downloading...\n",
      "From: https://drive.google.com/uc?id=18ta5ewG1IeVmi1dAa3DZh83W5gryXfmW\n",
      "To: /home/leomorales/work/projects/programa-salud-chubut/pdfs/Guia Infecciones Respiratorias Agudas actualización 2023.pdf\n",
      "100%|██████████| 2.17M/2.17M [00:00<00:00, 4.07MB/s]\n"
     ]
    },
    {
     "name": "stdout",
     "output_type": "stream",
     "text": [
      "Fin de la descarga: pdfs/Guia Infecciones Respiratorias Agudas actualización 2023.pdf\n",
      "Inicio de la descarga: Boletín EpiChubut SE 40 2023\n"
     ]
    },
    {
     "name": "stderr",
     "output_type": "stream",
     "text": [
      "Downloading...\n",
      "From: https://drive.google.com/uc?id=1JpwWfMer3h1D4ahBhwT51H1pzbZ6Pqcm\n",
      "To: /home/leomorales/work/projects/programa-salud-chubut/pdfs/Boletín EpiChubut SE 40 2023.pdf\n",
      "100%|██████████| 726k/726k [00:00<00:00, 3.19MB/s]\n"
     ]
    },
    {
     "name": "stdout",
     "output_type": "stream",
     "text": [
      "Fin de la descarga: pdfs/Boletín EpiChubut SE 40 2023.pdf\n",
      "Inicio de la descarga: Guía para la Vigilancia, prevención y control de IRAS - 2023\n"
     ]
    },
    {
     "name": "stderr",
     "output_type": "stream",
     "text": [
      "Downloading...\n",
      "From: https://drive.google.com/uc?id=1Cj7sQL76lJFyyIoulLYEjq7sjp-cow1x\n",
      "To: /home/leomorales/work/projects/programa-salud-chubut/pdfs/Guía para la Vigilancia, prevención y control de IRAS - 2023.pdf\n",
      "100%|██████████| 1.44M/1.44M [00:00<00:00, 3.76MB/s]\n"
     ]
    },
    {
     "name": "stdout",
     "output_type": "stream",
     "text": [
      "Fin de la descarga: pdfs/Guía para la Vigilancia, prevención y control de IRAS - 2023.pdf\n",
      "Inicio de la descarga: Boletín EpiChubut SE17 2023\n",
      "Error al descargar Boletín EpiChubut SE17 2023: Failed to retrieve file url:\n",
      "\n",
      "\tCannot retrieve the public link of the file. You may need to change\n",
      "\tthe permission to 'Anyone with the link', or have had many accesses.\n",
      "\tCheck FAQ in https://github.com/wkentaro/gdown?tab=readme-ov-file#faq.\n",
      "\n",
      "You may still be able to access the file from the browser:\n",
      "\n",
      "\thttps://drive.google.com/uc?id=18A0LKjTwAm82kEaS5CZIlnAqlhZF9qCb\n",
      "\n",
      "but Gdown can't. Please check connections and permissions.\n",
      "Inicio de la descarga: Boletín EpiChubut SE26 2023\n"
     ]
    },
    {
     "name": "stderr",
     "output_type": "stream",
     "text": [
      "Downloading...\n",
      "From: https://drive.google.com/uc?id=1gj10QbaDrJnqSNmJUULLegpEXQuC2n6x\n",
      "To: /home/leomorales/work/projects/programa-salud-chubut/pdfs/Boletín EpiChubut SE26 2023.pdf\n",
      "100%|██████████| 754k/754k [00:00<00:00, 3.20MB/s]\n"
     ]
    },
    {
     "name": "stdout",
     "output_type": "stream",
     "text": [
      "Fin de la descarga: pdfs/Boletín EpiChubut SE26 2023.pdf\n",
      "Inicio de la descarga: Boletín EpiChubut SE32 2023\n",
      "Error al descargar Boletín EpiChubut SE32 2023: Failed to retrieve file url:\n",
      "\n",
      "\tCannot retrieve the public link of the file. You may need to change\n",
      "\tthe permission to 'Anyone with the link', or have had many accesses.\n",
      "\tCheck FAQ in https://github.com/wkentaro/gdown?tab=readme-ov-file#faq.\n",
      "\n",
      "You may still be able to access the file from the browser:\n",
      "\n",
      "\thttps://drive.google.com/uc?id=1TbLVeV8aQEPZsWmh2rJp0fG0Jr3uHL9Z\n",
      "\n",
      "but Gdown can't. Please check connections and permissions.\n",
      "Inicio de la descarga: Boletín EpiChubut SE33 2023\n"
     ]
    },
    {
     "name": "stderr",
     "output_type": "stream",
     "text": [
      "Downloading...\n",
      "From: https://drive.google.com/uc?id=1bWEloPBE0Gght7Z_MsUv_ujCArlc2QxZ\n",
      "To: /home/leomorales/work/projects/programa-salud-chubut/pdfs/Boletín EpiChubut SE33 2023.pdf\n",
      "100%|██████████| 676k/676k [00:00<00:00, 3.09MB/s]\n"
     ]
    },
    {
     "name": "stdout",
     "output_type": "stream",
     "text": [
      "Fin de la descarga: pdfs/Boletín EpiChubut SE33 2023.pdf\n",
      "Inicio de la descarga: Boletín EpiChubut SE34 2023\n"
     ]
    },
    {
     "name": "stderr",
     "output_type": "stream",
     "text": [
      "Downloading...\n",
      "From: https://drive.google.com/uc?id=1cPgTbZwFT233AM4XXTeQSn9k0De-PpZt\n",
      "To: /home/leomorales/work/projects/programa-salud-chubut/pdfs/Boletín EpiChubut SE34 2023.pdf\n",
      "100%|██████████| 651k/651k [00:00<00:00, 3.06MB/s]\n"
     ]
    },
    {
     "name": "stdout",
     "output_type": "stream",
     "text": [
      "Fin de la descarga: pdfs/Boletín EpiChubut SE34 2023.pdf\n",
      "Inicio de la descarga: Boletín EpiChubut SE37 2023\n"
     ]
    },
    {
     "name": "stderr",
     "output_type": "stream",
     "text": [
      "Downloading...\n",
      "From: https://drive.google.com/uc?id=1YlWN-S2oysVrsx2Shln5mt6QenMqZd92\n",
      "To: /home/leomorales/work/projects/programa-salud-chubut/pdfs/Boletín EpiChubut SE37 2023.pdf\n",
      "100%|██████████| 488k/488k [00:00<00:00, 2.72MB/s]\n"
     ]
    },
    {
     "name": "stdout",
     "output_type": "stream",
     "text": [
      "Fin de la descarga: pdfs/Boletín EpiChubut SE37 2023.pdf\n",
      "Inicio de la descarga: Boletín EpiChubut SE 43 2023\n"
     ]
    },
    {
     "name": "stderr",
     "output_type": "stream",
     "text": [
      "Downloading...\n",
      "From: https://drive.google.com/uc?id=106hqNYuvc4Jpi3VDFlAGkuhG6jHCDe0f\n",
      "To: /home/leomorales/work/projects/programa-salud-chubut/pdfs/Boletín EpiChubut SE 43 2023.pdf\n",
      "100%|██████████| 454k/454k [00:00<00:00, 2.60MB/s]\n"
     ]
    },
    {
     "name": "stdout",
     "output_type": "stream",
     "text": [
      "Fin de la descarga: pdfs/Boletín EpiChubut SE 43 2023.pdf\n",
      "Inicio de la descarga: Boletín EpiChubut SE 46 2023\n",
      "Error al descargar Boletín EpiChubut SE 46 2023: Failed to retrieve file url:\n",
      "\n",
      "\tCannot retrieve the public link of the file. You may need to change\n",
      "\tthe permission to 'Anyone with the link', or have had many accesses.\n",
      "\tCheck FAQ in https://github.com/wkentaro/gdown?tab=readme-ov-file#faq.\n",
      "\n",
      "You may still be able to access the file from the browser:\n",
      "\n",
      "\thttps://drive.google.com/uc?id=1i6x85Do7rnieGeZlMx2GDUSTbGDVpn3l\n",
      "\n",
      "but Gdown can't. Please check connections and permissions.\n",
      "Inicio de la descarga: Boletín EpiChubut SE 45 2023\n",
      "Error al descargar Boletín EpiChubut SE 45 2023: Failed to retrieve file url:\n",
      "\n",
      "\tCannot retrieve the public link of the file. You may need to change\n",
      "\tthe permission to 'Anyone with the link', or have had many accesses.\n",
      "\tCheck FAQ in https://github.com/wkentaro/gdown?tab=readme-ov-file#faq.\n",
      "\n",
      "You may still be able to access the file from the browser:\n",
      "\n",
      "\thttps://drive.google.com/uc?id=1uaaed1lBfUpPxk2hoLaI_j-po8FEXalk\n",
      "\n",
      "but Gdown can't. Please check connections and permissions.\n",
      "Inicio de la descarga: Boletín EpiChubut SE 47 2023\n",
      "Error al descargar Boletín EpiChubut SE 47 2023: Failed to retrieve file url:\n",
      "\n",
      "\tCannot retrieve the public link of the file. You may need to change\n",
      "\tthe permission to 'Anyone with the link', or have had many accesses.\n",
      "\tCheck FAQ in https://github.com/wkentaro/gdown?tab=readme-ov-file#faq.\n",
      "\n",
      "You may still be able to access the file from the browser:\n",
      "\n",
      "\thttps://drive.google.com/uc?id=1f_F1jr6kWwL5Jq2dCIyf5iI88fKhWBHj\n",
      "\n",
      "but Gdown can't. Please check connections and permissions.\n",
      "Inicio de la descarga: Boletín EpiChubut SE 51 2023\n",
      "Error al descargar Boletín EpiChubut SE 51 2023: Failed to retrieve file url:\n",
      "\n",
      "\tCannot retrieve the public link of the file. You may need to change\n",
      "\tthe permission to 'Anyone with the link', or have had many accesses.\n",
      "\tCheck FAQ in https://github.com/wkentaro/gdown?tab=readme-ov-file#faq.\n",
      "\n",
      "You may still be able to access the file from the browser:\n",
      "\n",
      "\thttps://drive.google.com/uc?id=1JZwrCld6EqEFekonBE4osl8B41GuOeU_\n",
      "\n",
      "but Gdown can't. Please check connections and permissions.\n",
      "Inicio de la descarga: Boletín EpiChubut SE 50 2023\n",
      "Error al descargar Boletín EpiChubut SE 50 2023: Failed to retrieve file url:\n",
      "\n",
      "\tCannot retrieve the public link of the file. You may need to change\n",
      "\tthe permission to 'Anyone with the link', or have had many accesses.\n",
      "\tCheck FAQ in https://github.com/wkentaro/gdown?tab=readme-ov-file#faq.\n",
      "\n",
      "You may still be able to access the file from the browser:\n",
      "\n",
      "\thttps://drive.google.com/uc?id=1iX2vu7RFq3JqE7XbyPFDtqaucdAOaRu1\n",
      "\n",
      "but Gdown can't. Please check connections and permissions.\n",
      "Inicio de la descarga: Boletiìn Epi Chubut publicación SE 52.2023\n"
     ]
    },
    {
     "name": "stderr",
     "output_type": "stream",
     "text": [
      "Downloading...\n",
      "From: https://drive.google.com/uc?id=13P6RYSWW14eEk-7w5ldbO0MXS7Bp1qV0\n",
      "To: /home/leomorales/work/projects/programa-salud-chubut/pdfs/Boletiìn Epi Chubut publicación SE 52.2023.pdf\n",
      "100%|██████████| 1.54M/1.54M [00:00<00:00, 3.80MB/s]\n"
     ]
    },
    {
     "name": "stdout",
     "output_type": "stream",
     "text": [
      "Fin de la descarga: pdfs/Boletiìn Epi Chubut publicación SE 52.2023.pdf\n",
      "Inicio de la descarga: Boletiìn Epi Chubut publicación SE 1. 2024\n"
     ]
    },
    {
     "name": "stderr",
     "output_type": "stream",
     "text": [
      "Downloading...\n",
      "From: https://drive.google.com/uc?id=1UopILhQbgnaPgyiFL4ZLVRTEuJ1sPuJ3\n",
      "To: /home/leomorales/work/projects/programa-salud-chubut/pdfs/Boletiìn Epi Chubut publicación SE 1. 2024.pdf\n",
      "100%|██████████| 1.05M/1.05M [00:00<00:00, 3.48MB/s]\n"
     ]
    },
    {
     "name": "stdout",
     "output_type": "stream",
     "text": [
      "Fin de la descarga: pdfs/Boletiìn Epi Chubut publicación SE 1. 2024.pdf\n",
      "Inicio de la descarga: Boletiìn Epi Chubut publicación SE 2. 2024\n"
     ]
    },
    {
     "name": "stderr",
     "output_type": "stream",
     "text": [
      "Downloading...\n",
      "From: https://drive.google.com/uc?id=1oWiKvj850Q9dHdyg2dZtHHk04Sn9YUrJ\n",
      "To: /home/leomorales/work/projects/programa-salud-chubut/pdfs/Boletiìn Epi Chubut publicación SE 2. 2024.pdf\n",
      "100%|██████████| 1.86M/1.86M [00:00<00:00, 3.96MB/s]\n"
     ]
    },
    {
     "name": "stdout",
     "output_type": "stream",
     "text": [
      "Fin de la descarga: pdfs/Boletiìn Epi Chubut publicación SE 2. 2024.pdf\n",
      "Inicio de la descarga: Boletiìn Epi Chubut publicación SE 3. 2024\n"
     ]
    },
    {
     "name": "stderr",
     "output_type": "stream",
     "text": [
      "Downloading...\n",
      "From: https://drive.google.com/uc?id=1tBzAVoVyf1psXcVLiISiF4xWrP6VAGBa\n",
      "To: /home/leomorales/work/projects/programa-salud-chubut/pdfs/Boletiìn Epi Chubut publicación SE 3. 2024.pdf\n",
      "100%|██████████| 1.47M/1.47M [00:00<00:00, 3.77MB/s]\n"
     ]
    },
    {
     "name": "stdout",
     "output_type": "stream",
     "text": [
      "Fin de la descarga: pdfs/Boletiìn Epi Chubut publicación SE 3. 2024.pdf\n",
      "Inicio de la descarga: Boletiìn Epi Chubut publicación SE 4. 2024\n"
     ]
    },
    {
     "name": "stderr",
     "output_type": "stream",
     "text": [
      "Downloading...\n",
      "From: https://drive.google.com/uc?id=1f6g_O-0pAfu43rV95XiXNjn1Q8IFupVw\n",
      "To: /home/leomorales/work/projects/programa-salud-chubut/pdfs/Boletiìn Epi Chubut publicación SE 4. 2024.pdf\n",
      "100%|██████████| 1.47M/1.47M [00:00<00:00, 3.81MB/s]\n"
     ]
    },
    {
     "name": "stdout",
     "output_type": "stream",
     "text": [
      "Fin de la descarga: pdfs/Boletiìn Epi Chubut publicación SE 4. 2024.pdf\n",
      "Inicio de la descarga: Boletiìn Epi Chubut publicación SE 5. 2024\n"
     ]
    },
    {
     "name": "stderr",
     "output_type": "stream",
     "text": [
      "Downloading...\n",
      "From: https://drive.google.com/uc?id=1hJZQy7_X3V64Q8nDogyyAgokA8TqMJH8\n",
      "To: /home/leomorales/work/projects/programa-salud-chubut/pdfs/Boletiìn Epi Chubut publicación SE 5. 2024.pdf\n",
      "100%|██████████| 1.46M/1.46M [00:00<00:00, 3.79MB/s]\n"
     ]
    },
    {
     "name": "stdout",
     "output_type": "stream",
     "text": [
      "Fin de la descarga: pdfs/Boletiìn Epi Chubut publicación SE 5. 2024.pdf\n",
      "Inicio de la descarga: Boletiìn Epi Chubut publicación SE 6. 2024\n"
     ]
    },
    {
     "name": "stderr",
     "output_type": "stream",
     "text": [
      "Downloading...\n",
      "From: https://drive.google.com/uc?id=1gE9xzxPXU2I6PvMEEknsOjJsJRbH8Vbc\n",
      "To: /home/leomorales/work/projects/programa-salud-chubut/pdfs/Boletiìn Epi Chubut publicación SE 6. 2024.pdf\n",
      "100%|██████████| 1.60M/1.60M [00:00<00:00, 3.85MB/s]\n"
     ]
    },
    {
     "name": "stdout",
     "output_type": "stream",
     "text": [
      "Fin de la descarga: pdfs/Boletiìn Epi Chubut publicación SE 6. 2024.pdf\n",
      "Inicio de la descarga: Boletiìn Epi Chubut publicación SE 7. 2024\n"
     ]
    },
    {
     "name": "stderr",
     "output_type": "stream",
     "text": [
      "Downloading...\n",
      "From: https://drive.google.com/uc?id=1sujQObkONhiJKGBVwiQwp_3PEgSZsf8A\n",
      "To: /home/leomorales/work/projects/programa-salud-chubut/pdfs/Boletiìn Epi Chubut publicación SE 7. 2024.pdf\n",
      "100%|██████████| 1.45M/1.45M [00:00<00:00, 3.78MB/s]\n"
     ]
    },
    {
     "name": "stdout",
     "output_type": "stream",
     "text": [
      "Fin de la descarga: pdfs/Boletiìn Epi Chubut publicación SE 7. 2024.pdf\n",
      "Inicio de la descarga: Boletiìn Epi Chubut publicación SE 8. 2024\n"
     ]
    },
    {
     "name": "stderr",
     "output_type": "stream",
     "text": [
      "Downloading...\n",
      "From: https://drive.google.com/uc?id=1xRzA3IYRXHp_e9Ycj4Y9Sn-89otPuXuC\n",
      "To: /home/leomorales/work/projects/programa-salud-chubut/pdfs/Boletiìn Epi Chubut publicación SE 8. 2024.pdf\n",
      "100%|██████████| 1.42M/1.42M [00:00<00:00, 3.76MB/s]\n"
     ]
    },
    {
     "name": "stdout",
     "output_type": "stream",
     "text": [
      "Fin de la descarga: pdfs/Boletiìn Epi Chubut publicación SE 8. 2024.pdf\n",
      "Inicio de la descarga: Boletiìn Epi Chubut publicación SE 9. 2024\n"
     ]
    },
    {
     "name": "stderr",
     "output_type": "stream",
     "text": [
      "Downloading...\n",
      "From: https://drive.google.com/uc?id=1FYGBbx2JlccbNiUznKuTiuZcl96es2K3\n",
      "To: /home/leomorales/work/projects/programa-salud-chubut/pdfs/Boletiìn Epi Chubut publicación SE 9. 2024.pdf\n",
      "100%|██████████| 1.44M/1.44M [00:00<00:00, 3.77MB/s]\n"
     ]
    },
    {
     "name": "stdout",
     "output_type": "stream",
     "text": [
      "Fin de la descarga: pdfs/Boletiìn Epi Chubut publicación SE 9. 2024.pdf\n",
      "Inicio de la descarga: Circular Vigilancia SE 10 Encefalitis Equina del Oeste (EEO)\n"
     ]
    },
    {
     "name": "stderr",
     "output_type": "stream",
     "text": [
      "Downloading...\n",
      "From: https://drive.google.com/uc?id=1dyU3Xz6kBd3QT-OHuAvrA75ZgvRFR6p3\n",
      "To: /home/leomorales/work/projects/programa-salud-chubut/pdfs/Circular Vigilancia SE 10 Encefalitis Equina del Oeste (EEO).pdf\n",
      "100%|██████████| 319k/319k [00:00<00:00, 2.27MB/s]\n"
     ]
    },
    {
     "name": "stdout",
     "output_type": "stream",
     "text": [
      "Fin de la descarga: pdfs/Circular Vigilancia SE 10 Encefalitis Equina del Oeste (EEO).pdf\n",
      "Inicio de la descarga: Boletín Epi Chubut publicación SE 11. 2024\n"
     ]
    },
    {
     "name": "stderr",
     "output_type": "stream",
     "text": [
      "Downloading...\n",
      "From: https://drive.google.com/uc?id=1mUbc6vjwtY3GzuIz_SbqwSmqn1V3t2ND\n",
      "To: /home/leomorales/work/projects/programa-salud-chubut/pdfs/Boletín Epi Chubut publicación SE 11. 2024.pdf\n",
      "100%|██████████| 1.45M/1.45M [00:00<00:00, 3.76MB/s]\n"
     ]
    },
    {
     "name": "stdout",
     "output_type": "stream",
     "text": [
      "Fin de la descarga: pdfs/Boletín Epi Chubut publicación SE 11. 2024.pdf\n",
      "Inicio de la descarga: Boletín Epi Chubut publicación SE 12. 2024\n"
     ]
    },
    {
     "name": "stderr",
     "output_type": "stream",
     "text": [
      "Downloading...\n",
      "From: https://drive.google.com/uc?id=1Yga0a-sfCBchr8fRSmPxIcTsapDonXlo\n",
      "To: /home/leomorales/work/projects/programa-salud-chubut/pdfs/Boletín Epi Chubut publicación SE 12. 2024.pdf\n",
      "100%|██████████| 1.30M/1.30M [00:00<00:00, 3.71MB/s]\n"
     ]
    },
    {
     "name": "stdout",
     "output_type": "stream",
     "text": [
      "Fin de la descarga: pdfs/Boletín Epi Chubut publicación SE 12. 2024.pdf\n",
      "Inicio de la descarga: Boletín Epi Chubut publicación SE 14. 2024\n"
     ]
    },
    {
     "name": "stderr",
     "output_type": "stream",
     "text": [
      "Downloading...\n",
      "From: https://drive.google.com/uc?id=1HRucEEWVGd8NJGuvhXZAkmb6vjZIkgRn\n",
      "To: /home/leomorales/work/projects/programa-salud-chubut/pdfs/Boletín Epi Chubut publicación SE 14. 2024.pdf\n",
      "100%|██████████| 2.07M/2.07M [00:00<00:00, 4.01MB/s]\n"
     ]
    },
    {
     "name": "stdout",
     "output_type": "stream",
     "text": [
      "Fin de la descarga: pdfs/Boletín Epi Chubut publicación SE 14. 2024.pdf\n",
      "Inicio de la descarga: Informe Final Brote Hantavirus 2018-2019\n"
     ]
    },
    {
     "name": "stderr",
     "output_type": "stream",
     "text": [
      "Downloading...\n",
      "From: https://drive.google.com/uc?id=1wV_Mpughui_evKCIfGJkHmQYGUPNsw11\n",
      "To: /home/leomorales/work/projects/programa-salud-chubut/pdfs/Informe Final Brote Hantavirus 2018-2019.pdf\n",
      "100%|██████████| 21.2M/21.2M [00:04<00:00, 4.70MB/s]\n"
     ]
    },
    {
     "name": "stdout",
     "output_type": "stream",
     "text": [
      "Fin de la descarga: pdfs/Informe Final Brote Hantavirus 2018-2019.pdf\n",
      "Inicio de la descarga: Circular Abordaje Dengue SE 14\n"
     ]
    },
    {
     "name": "stderr",
     "output_type": "stream",
     "text": [
      "Downloading...\n",
      "From: https://drive.google.com/uc?id=1H3mvookDYo5CTmh4ewjfqICm-JPA8bp5\n",
      "To: /home/leomorales/work/projects/programa-salud-chubut/pdfs/Circular Abordaje Dengue SE 14.pdf\n",
      "100%|██████████| 130k/130k [00:00<00:00, 1.36MB/s]\n"
     ]
    },
    {
     "name": "stdout",
     "output_type": "stream",
     "text": [
      "Fin de la descarga: pdfs/Circular Abordaje Dengue SE 14.pdf\n",
      "Inicio de la descarga: Boletín Epi Chubut publicación SE 15. 2024\n"
     ]
    },
    {
     "name": "stderr",
     "output_type": "stream",
     "text": [
      "Downloading...\n",
      "From: https://drive.google.com/uc?id=1yW5Ca3PbSmK6atzaGqbnmOjOF9NqOxrk\n",
      "To: /home/leomorales/work/projects/programa-salud-chubut/pdfs/Boletín Epi Chubut publicación SE 15. 2024.pdf\n",
      "100%|██████████| 1.37M/1.37M [00:00<00:00, 3.73MB/s]\n"
     ]
    },
    {
     "name": "stdout",
     "output_type": "stream",
     "text": [
      "Fin de la descarga: pdfs/Boletín Epi Chubut publicación SE 15. 2024.pdf\n",
      "Inicio de la descarga: Boletín Epi Chubut publicación SE 16. 2024\n"
     ]
    },
    {
     "name": "stderr",
     "output_type": "stream",
     "text": [
      "Downloading...\n",
      "From: https://drive.google.com/uc?id=1s6tK9NzaS9QpKn8C790Cd5GIPqKLWXpx\n",
      "To: /home/leomorales/work/projects/programa-salud-chubut/pdfs/Boletín Epi Chubut publicación SE 16. 2024.pdf\n",
      "100%|██████████| 1.44M/1.44M [00:00<00:00, 3.76MB/s]\n"
     ]
    },
    {
     "name": "stdout",
     "output_type": "stream",
     "text": [
      "Fin de la descarga: pdfs/Boletín Epi Chubut publicación SE 16. 2024.pdf\n",
      "Inicio de la descarga: Boletín Epi Chubut publicación SE 17. 2024\n"
     ]
    },
    {
     "name": "stderr",
     "output_type": "stream",
     "text": [
      "Downloading...\n",
      "From: https://drive.google.com/uc?id=1ENdfNRI1HKve-khQN19_FapNf9npa5v-\n",
      "To: /home/leomorales/work/projects/programa-salud-chubut/pdfs/Boletín Epi Chubut publicación SE 17. 2024.pdf\n",
      "100%|██████████| 1.39M/1.39M [00:00<00:00, 3.75MB/s]\n"
     ]
    },
    {
     "name": "stdout",
     "output_type": "stream",
     "text": [
      "Fin de la descarga: pdfs/Boletín Epi Chubut publicación SE 17. 2024.pdf\n",
      "Inicio de la descarga: Normativa Provincial Hantavirus\n"
     ]
    },
    {
     "name": "stderr",
     "output_type": "stream",
     "text": [
      "Downloading...\n",
      "From: https://drive.google.com/uc?id=1OAafJkkN2WAdeduPRBcmaQtEachJvVA9\n",
      "To: /home/leomorales/work/projects/programa-salud-chubut/pdfs/Normativa Provincial Hantavirus.pdf\n",
      "100%|██████████| 2.35M/2.35M [00:00<00:00, 4.12MB/s]\n"
     ]
    },
    {
     "name": "stdout",
     "output_type": "stream",
     "text": [
      "Fin de la descarga: pdfs/Normativa Provincial Hantavirus.pdf\n",
      "Inicio de la descarga: Programa Provincial Hantavirus\n"
     ]
    },
    {
     "name": "stderr",
     "output_type": "stream",
     "text": [
      "Downloading...\n",
      "From: https://drive.google.com/uc?id=14Mtl_5CStwmVvKwRc0gGrsf-zD2wQMPQ\n",
      "To: /home/leomorales/work/projects/programa-salud-chubut/pdfs/Programa Provincial Hantavirus.pdf\n",
      "100%|██████████| 19.1M/19.1M [00:04<00:00, 4.68MB/s]\n"
     ]
    },
    {
     "name": "stdout",
     "output_type": "stream",
     "text": [
      "Fin de la descarga: pdfs/Programa Provincial Hantavirus.pdf\n",
      "Inicio de la descarga: Boletín Epi Chubut publicación SE 18. 2024\n"
     ]
    },
    {
     "name": "stderr",
     "output_type": "stream",
     "text": [
      "Downloading...\n",
      "From: https://drive.google.com/uc?id=1a50faeg5LpCYSCK9jNYbMBpVRBJHCMg6\n",
      "To: /home/leomorales/work/projects/programa-salud-chubut/pdfs/Boletín Epi Chubut publicación SE 18. 2024.pdf\n",
      "100%|██████████| 636k/636k [00:00<00:00, 3.08MB/s]\n"
     ]
    },
    {
     "name": "stdout",
     "output_type": "stream",
     "text": [
      "Fin de la descarga: pdfs/Boletín Epi Chubut publicación SE 18. 2024.pdf\n",
      "Inicio de la descarga: Boletín Epi Chubut publicación SE 19. 2024\n"
     ]
    },
    {
     "name": "stderr",
     "output_type": "stream",
     "text": [
      "Downloading...\n",
      "From: https://drive.google.com/uc?id=1vY9s3HlR8O5sr0fPLrKFs16IC-jtYtvs\n",
      "To: /home/leomorales/work/projects/programa-salud-chubut/pdfs/Boletín Epi Chubut publicación SE 19. 2024.pdf\n",
      "100%|██████████| 1.05M/1.05M [00:00<00:00, 3.44MB/s]\n"
     ]
    },
    {
     "name": "stdout",
     "output_type": "stream",
     "text": [
      "Fin de la descarga: pdfs/Boletín Epi Chubut publicación SE 19. 2024.pdf\n",
      "Inicio de la descarga: Boletín Epi Chubut publicación SE 20. 2024\n"
     ]
    },
    {
     "name": "stderr",
     "output_type": "stream",
     "text": [
      "Downloading...\n",
      "From: https://drive.google.com/uc?id=1AMNte8N_QNjsVZcZ83_FJMVXLhyylveB\n",
      "To: /home/leomorales/work/projects/programa-salud-chubut/pdfs/Boletín Epi Chubut publicación SE 20. 2024.pdf\n",
      "100%|██████████| 1.05M/1.05M [00:00<00:00, 3.48MB/s]\n"
     ]
    },
    {
     "name": "stdout",
     "output_type": "stream",
     "text": [
      "Fin de la descarga: pdfs/Boletín Epi Chubut publicación SE 20. 2024.pdf\n",
      "Inicio de la descarga: Boletín Epi Chubut publicación SE 21. 2024\n"
     ]
    },
    {
     "name": "stderr",
     "output_type": "stream",
     "text": [
      "Downloading...\n",
      "From: https://drive.google.com/uc?id=13zvjuvukk3NxI7yKMb7HPKlnPjIrNl_1\n",
      "To: /home/leomorales/work/projects/programa-salud-chubut/pdfs/Boletín Epi Chubut publicación SE 21. 2024.pdf\n",
      "100%|██████████| 1.65M/1.65M [00:00<00:00, 3.88MB/s]\n"
     ]
    },
    {
     "name": "stdout",
     "output_type": "stream",
     "text": [
      "Fin de la descarga: pdfs/Boletín Epi Chubut publicación SE 21. 2024.pdf\n",
      "Inicio de la descarga: Boletín Epi Chubut publicación SE 23. 2024\n",
      "Error al descargar Boletín Epi Chubut publicación SE 23. 2024: Failed to retrieve file url:\n",
      "\n",
      "\tCannot retrieve the public link of the file. You may need to change\n",
      "\tthe permission to 'Anyone with the link', or have had many accesses.\n",
      "\tCheck FAQ in https://github.com/wkentaro/gdown?tab=readme-ov-file#faq.\n",
      "\n",
      "You may still be able to access the file from the browser:\n",
      "\n",
      "\thttps://drive.google.com/uc?id=1xRzA3IYRXHp_e9Ycj4Y9Sn-89otPuXuC\n",
      "\n",
      "but Gdown can't. Please check connections and permissions.\n",
      "Inicio de la descarga: Estrategias Vigilancia Virus respiratorios Año 2024 SE 21\n",
      "Error al descargar Estrategias Vigilancia Virus respiratorios Año 2024 SE 21: Failed to retrieve file url:\n",
      "\n",
      "\tCannot retrieve the public link of the file. You may need to change\n",
      "\tthe permission to 'Anyone with the link', or have had many accesses.\n",
      "\tCheck FAQ in https://github.com/wkentaro/gdown?tab=readme-ov-file#faq.\n",
      "\n",
      "You may still be able to access the file from the browser:\n",
      "\n",
      "\thttps://drive.google.com/uc?id=1G1H8vlWVPrrCYNPbD-W7w2DEpHhEx4qH\n",
      "\n",
      "but Gdown can't. Please check connections and permissions.\n",
      "Inicio de la descarga: Boletín Epidemiológico provincial Año 2024 SE 26\n",
      "Error al descargar Boletín Epidemiológico provincial Año 2024 SE 26: Failed to retrieve file url:\n",
      "\n",
      "\tCannot retrieve the public link of the file. You may need to change\n",
      "\tthe permission to 'Anyone with the link', or have had many accesses.\n",
      "\tCheck FAQ in https://github.com/wkentaro/gdown?tab=readme-ov-file#faq.\n",
      "\n",
      "You may still be able to access the file from the browser:\n",
      "\n",
      "\thttps://drive.google.com/uc?id=16CD7aw-Plym__Qn_W_hTC69ULA6upTdx\n",
      "\n",
      "but Gdown can't. Please check connections and permissions.\n",
      "Inicio de la descarga: Informe anual de Tuberculosis en Chubut -Año 2023 (Publicación 2024)\n",
      "Error al descargar Informe anual de Tuberculosis en Chubut -Año 2023 (Publicación 2024): Failed to retrieve file url:\n",
      "\n",
      "\tCannot retrieve the public link of the file. You may need to change\n",
      "\tthe permission to 'Anyone with the link', or have had many accesses.\n",
      "\tCheck FAQ in https://github.com/wkentaro/gdown?tab=readme-ov-file#faq.\n",
      "\n",
      "You may still be able to access the file from the browser:\n",
      "\n",
      "\thttps://drive.google.com/uc?id=1ete7aOwq2JeakwF_Q1yzu5QQJSaPV3_B\n",
      "\n",
      "but Gdown can't. Please check connections and permissions.\n",
      "Inicio de la descarga: Boletin EpiChubut SE28-2024\n",
      "Error al descargar Boletin EpiChubut SE28-2024: Failed to retrieve file url:\n",
      "\n",
      "\tCannot retrieve the public link of the file. You may need to change\n",
      "\tthe permission to 'Anyone with the link', or have had many accesses.\n",
      "\tCheck FAQ in https://github.com/wkentaro/gdown?tab=readme-ov-file#faq.\n",
      "\n",
      "You may still be able to access the file from the browser:\n",
      "\n",
      "\thttps://drive.google.com/uc?id=1OySC5-OdtCfn2MmEo79kkm1g-Rqk1kb8\n",
      "\n",
      "but Gdown can't. Please check connections and permissions.\n",
      "Inicio de la descarga: Boletín provincial hepatitis virales pub 2024\n",
      "Error al descargar Boletín provincial hepatitis virales pub 2024: Failed to retrieve file url:\n",
      "\n",
      "\tCannot retrieve the public link of the file. You may need to change\n",
      "\tthe permission to 'Anyone with the link', or have had many accesses.\n",
      "\tCheck FAQ in https://github.com/wkentaro/gdown?tab=readme-ov-file#faq.\n",
      "\n",
      "You may still be able to access the file from the browser:\n",
      "\n",
      "\thttps://drive.google.com/uc?id=1C10xoLY7-vSrTNxYBoiMtMDGLnjNaxCN\n",
      "\n",
      "but Gdown can't. Please check connections and permissions.\n",
      "Inicio de la descarga: Boletin EpiChubut SE31-2024\n",
      "Error al descargar Boletin EpiChubut SE31-2024: Failed to retrieve file url:\n",
      "\n",
      "\tCannot retrieve the public link of the file. You may need to change\n",
      "\tthe permission to 'Anyone with the link', or have had many accesses.\n",
      "\tCheck FAQ in https://github.com/wkentaro/gdown?tab=readme-ov-file#faq.\n",
      "\n",
      "You may still be able to access the file from the browser:\n",
      "\n",
      "\thttps://drive.google.com/uc?id=1mJPvXpeA1Wida8haq4q-ReRDDCmSlGCV\n",
      "\n",
      "but Gdown can't. Please check connections and permissions.\n",
      "Inicio de la descarga: Boletin EpiChubut SE32-2024\n",
      "Error al descargar Boletin EpiChubut SE32-2024: Failed to retrieve file url:\n",
      "\n",
      "\tCannot retrieve the public link of the file. You may need to change\n",
      "\tthe permission to 'Anyone with the link', or have had many accesses.\n",
      "\tCheck FAQ in https://github.com/wkentaro/gdown?tab=readme-ov-file#faq.\n",
      "\n",
      "You may still be able to access the file from the browser:\n",
      "\n",
      "\thttps://drive.google.com/uc?id=1TkO_80wTfTq42nSvnoM-iglf2tbedrGQ\n",
      "\n",
      "but Gdown can't. Please check connections and permissions.\n",
      "Inicio de la descarga: Circular Vigilancia SE 33 Mpox (Viruela símica)\n",
      "Error al descargar Circular Vigilancia SE 33 Mpox (Viruela símica): Failed to retrieve file url:\n",
      "\n",
      "\tCannot retrieve the public link of the file. You may need to change\n",
      "\tthe permission to 'Anyone with the link', or have had many accesses.\n",
      "\tCheck FAQ in https://github.com/wkentaro/gdown?tab=readme-ov-file#faq.\n",
      "\n",
      "You may still be able to access the file from the browser:\n",
      "\n",
      "\thttps://drive.google.com/uc?id=1yVCHeAFk5MMT6sIpO6463CYccDj1FWBx\n",
      "\n",
      "but Gdown can't. Please check connections and permissions.\n",
      "Inicio de la descarga: Boletin EpiChubut SE33-2024\n",
      "Error al descargar Boletin EpiChubut SE33-2024: Failed to retrieve file url:\n",
      "\n",
      "\tCannot retrieve the public link of the file. You may need to change\n",
      "\tthe permission to 'Anyone with the link', or have had many accesses.\n",
      "\tCheck FAQ in https://github.com/wkentaro/gdown?tab=readme-ov-file#faq.\n",
      "\n",
      "You may still be able to access the file from the browser:\n",
      "\n",
      "\thttps://drive.google.com/uc?id=1CljvgogwAoRhg-M72KKSxPOLh9oUPqRF\n",
      "\n",
      "but Gdown can't. Please check connections and permissions.\n",
      "Inicio de la descarga: Boletin EpiChubut SE34-2024\n",
      "Error al descargar Boletin EpiChubut SE34-2024: Failed to retrieve file url:\n",
      "\n",
      "\tCannot retrieve the public link of the file. You may need to change\n",
      "\tthe permission to 'Anyone with the link', or have had many accesses.\n",
      "\tCheck FAQ in https://github.com/wkentaro/gdown?tab=readme-ov-file#faq.\n",
      "\n",
      "You may still be able to access the file from the browser:\n",
      "\n",
      "\thttps://drive.google.com/uc?id=1DRr9Uy7J7lNbGkARMIcfZOHtqeic_sKf\n",
      "\n",
      "but Gdown can't. Please check connections and permissions.\n",
      "Inicio de la descarga: Boletin EpiChubut SE35-2024\n",
      "Error al descargar Boletin EpiChubut SE35-2024: Failed to retrieve file url:\n",
      "\n",
      "\tCannot retrieve the public link of the file. You may need to change\n",
      "\tthe permission to 'Anyone with the link', or have had many accesses.\n",
      "\tCheck FAQ in https://github.com/wkentaro/gdown?tab=readme-ov-file#faq.\n",
      "\n",
      "You may still be able to access the file from the browser:\n",
      "\n",
      "\thttps://drive.google.com/uc?id=126YFmCNZ51JjBkKSB5wKeMSUkKYxhLeH\n",
      "\n",
      "but Gdown can't. Please check connections and permissions.\n",
      "Inicio de la descarga: Boletin EpiChubut SE36-2024\n",
      "Error al descargar Boletin EpiChubut SE36-2024: Failed to retrieve file url:\n",
      "\n",
      "\tCannot retrieve the public link of the file. You may need to change\n",
      "\tthe permission to 'Anyone with the link', or have had many accesses.\n",
      "\tCheck FAQ in https://github.com/wkentaro/gdown?tab=readme-ov-file#faq.\n",
      "\n",
      "You may still be able to access the file from the browser:\n",
      "\n",
      "\thttps://drive.google.com/uc?id=1ld_D7rrZXTFWmDiLZpRpHVLFCdOUlvHt\n",
      "\n",
      "but Gdown can't. Please check connections and permissions.\n",
      "Inicio de la descarga: Boletin EpiChubut SE37-2024\n",
      "Error al descargar Boletin EpiChubut SE37-2024: Failed to retrieve file url:\n",
      "\n",
      "\tCannot retrieve the public link of the file. You may need to change\n",
      "\tthe permission to 'Anyone with the link', or have had many accesses.\n",
      "\tCheck FAQ in https://github.com/wkentaro/gdown?tab=readme-ov-file#faq.\n",
      "\n",
      "You may still be able to access the file from the browser:\n",
      "\n",
      "\thttps://drive.google.com/uc?id=1KOnn7-hJMwGh4r_hYIA3xU5k1DrJf_qd\n",
      "\n",
      "but Gdown can't. Please check connections and permissions.\n",
      "Inicio de la descarga: Boletin EpiChubut SE39-2024\n",
      "Error al descargar Boletin EpiChubut SE39-2024: Failed to retrieve file url:\n",
      "\n",
      "\tCannot retrieve the public link of the file. You may need to change\n",
      "\tthe permission to 'Anyone with the link', or have had many accesses.\n",
      "\tCheck FAQ in https://github.com/wkentaro/gdown?tab=readme-ov-file#faq.\n",
      "\n",
      "You may still be able to access the file from the browser:\n",
      "\n",
      "\thttps://drive.google.com/uc?id=1ak6DIF13xIPAbxpu7N4u_6LdKC_drQyo\n",
      "\n",
      "but Gdown can't. Please check connections and permissions.\n",
      "Inicio de la descarga: Boletin EpiChubut SE40-2024\n",
      "Error al descargar Boletin EpiChubut SE40-2024: Failed to retrieve file url:\n",
      "\n",
      "\tCannot retrieve the public link of the file. You may need to change\n",
      "\tthe permission to 'Anyone with the link', or have had many accesses.\n",
      "\tCheck FAQ in https://github.com/wkentaro/gdown?tab=readme-ov-file#faq.\n",
      "\n",
      "You may still be able to access the file from the browser:\n",
      "\n",
      "\thttps://drive.google.com/uc?id=1b6D5yZAufyencwRmNjUduFbcdvPF5zrq\n",
      "\n",
      "but Gdown can't. Please check connections and permissions.\n",
      "Inicio de la descarga: Boletin EpiChubut SE42-2024\n",
      "Error al descargar Boletin EpiChubut SE42-2024: Failed to retrieve file url:\n",
      "\n",
      "\tCannot retrieve the public link of the file. You may need to change\n",
      "\tthe permission to 'Anyone with the link', or have had many accesses.\n",
      "\tCheck FAQ in https://github.com/wkentaro/gdown?tab=readme-ov-file#faq.\n",
      "\n",
      "You may still be able to access the file from the browser:\n",
      "\n",
      "\thttps://drive.google.com/uc?id=1Sne8JhCX0blZloZ1slIRzWriqcapMMUL\n",
      "\n",
      "but Gdown can't. Please check connections and permissions.\n",
      "Inicio de la descarga: Boletin EpiChubut SE44-2024\n",
      "Error al descargar Boletin EpiChubut SE44-2024: Failed to retrieve file url:\n",
      "\n",
      "\tCannot retrieve the public link of the file. You may need to change\n",
      "\tthe permission to 'Anyone with the link', or have had many accesses.\n",
      "\tCheck FAQ in https://github.com/wkentaro/gdown?tab=readme-ov-file#faq.\n",
      "\n",
      "You may still be able to access the file from the browser:\n",
      "\n",
      "\thttps://drive.google.com/uc?id=1ZveACFUkqqW_qLyTZYaN7C5_zrOZflhh\n",
      "\n",
      "but Gdown can't. Please check connections and permissions.\n",
      "Inicio de la descarga: Boletin EpiChubut SE45-2024\n",
      "Error al descargar Boletin EpiChubut SE45-2024: Failed to retrieve file url:\n",
      "\n",
      "\tCannot retrieve the public link of the file. You may need to change\n",
      "\tthe permission to 'Anyone with the link', or have had many accesses.\n",
      "\tCheck FAQ in https://github.com/wkentaro/gdown?tab=readme-ov-file#faq.\n",
      "\n",
      "You may still be able to access the file from the browser:\n",
      "\n",
      "\thttps://drive.google.com/uc?id=1DYTp2yky3ySbvEWc3_VOGuKofD5CfI7W\n",
      "\n",
      "but Gdown can't. Please check connections and permissions.\n",
      "Inicio de la descarga: Circular Dengue SE 45\n",
      "Error al descargar Circular Dengue SE 45: Failed to retrieve file url:\n",
      "\n",
      "\tCannot retrieve the public link of the file. You may need to change\n",
      "\tthe permission to 'Anyone with the link', or have had many accesses.\n",
      "\tCheck FAQ in https://github.com/wkentaro/gdown?tab=readme-ov-file#faq.\n",
      "\n",
      "You may still be able to access the file from the browser:\n",
      "\n",
      "\thttps://drive.google.com/uc?id=1aHf8bn7ZMCjL2c1BjrbSt6YlQsZo5xWh\n",
      "\n",
      "but Gdown can't. Please check connections and permissions.\n",
      "Inicio de la descarga: Boletin EpiChubut SE46-2024\n",
      "Error al descargar Boletin EpiChubut SE46-2024: Failed to retrieve file url:\n",
      "\n",
      "\tCannot retrieve the public link of the file. You may need to change\n",
      "\tthe permission to 'Anyone with the link', or have had many accesses.\n",
      "\tCheck FAQ in https://github.com/wkentaro/gdown?tab=readme-ov-file#faq.\n",
      "\n",
      "You may still be able to access the file from the browser:\n",
      "\n",
      "\thttps://drive.google.com/uc?id=1TGaKUo7gxFyMMYfYqO5rlWqGPLjXB_jS\n",
      "\n",
      "but Gdown can't. Please check connections and permissions.\n",
      "Inicio de la descarga: Boletin EpiChubut SE47-2024\n",
      "Error al descargar Boletin EpiChubut SE47-2024: Failed to retrieve file url:\n",
      "\n",
      "\tCannot retrieve the public link of the file. You may need to change\n",
      "\tthe permission to 'Anyone with the link', or have had many accesses.\n",
      "\tCheck FAQ in https://github.com/wkentaro/gdown?tab=readme-ov-file#faq.\n",
      "\n",
      "You may still be able to access the file from the browser:\n",
      "\n",
      "\thttps://drive.google.com/uc?id=19TV0_F1GCoXkwvNbHiTKQhlKS7GlSwRv\n",
      "\n",
      "but Gdown can't. Please check connections and permissions.\n",
      "Inicio de la descarga: Boletin EpiChubut SE48-2024\n",
      "Error al descargar Boletin EpiChubut SE48-2024: Failed to retrieve file url:\n",
      "\n",
      "\tCannot retrieve the public link of the file. You may need to change\n",
      "\tthe permission to 'Anyone with the link', or have had many accesses.\n",
      "\tCheck FAQ in https://github.com/wkentaro/gdown?tab=readme-ov-file#faq.\n",
      "\n",
      "You may still be able to access the file from the browser:\n",
      "\n",
      "\thttps://drive.google.com/uc?id=13Bs4gyDVbLnfbi7EVOtL6K7bqBTXR9CR\n",
      "\n",
      "but Gdown can't. Please check connections and permissions.\n",
      "Inicio de la descarga: Boletin EpiChubut SE49-2024\n",
      "Error al descargar Boletin EpiChubut SE49-2024: Failed to retrieve file url:\n",
      "\n",
      "\tCannot retrieve the public link of the file. You may need to change\n",
      "\tthe permission to 'Anyone with the link', or have had many accesses.\n",
      "\tCheck FAQ in https://github.com/wkentaro/gdown?tab=readme-ov-file#faq.\n",
      "\n",
      "You may still be able to access the file from the browser:\n",
      "\n",
      "\thttps://drive.google.com/uc?id=18N7Hej8ELTxX3n_LL-VwrTC-OAwaDLy3\n",
      "\n",
      "but Gdown can't. Please check connections and permissions.\n",
      "Inicio de la descarga: Boletin EpiChubut SE50-2024\n",
      "Error al descargar Boletin EpiChubut SE50-2024: Failed to retrieve file url:\n",
      "\n",
      "\tCannot retrieve the public link of the file. You may need to change\n",
      "\tthe permission to 'Anyone with the link', or have had many accesses.\n",
      "\tCheck FAQ in https://github.com/wkentaro/gdown?tab=readme-ov-file#faq.\n",
      "\n",
      "You may still be able to access the file from the browser:\n",
      "\n",
      "\thttps://drive.google.com/uc?id=1TtrtMItZCyfiYYePxnLdzso9-gesG8Z-\n",
      "\n",
      "but Gdown can't. Please check connections and permissions.\n",
      "Inicio de la descarga: Boletín epidemiológico Provincial VIH 2024\n",
      "Error al descargar Boletín epidemiológico Provincial VIH 2024: Failed to retrieve file url:\n",
      "\n",
      "\tCannot retrieve the public link of the file. You may need to change\n",
      "\tthe permission to 'Anyone with the link', or have had many accesses.\n",
      "\tCheck FAQ in https://github.com/wkentaro/gdown?tab=readme-ov-file#faq.\n",
      "\n",
      "You may still be able to access the file from the browser:\n",
      "\n",
      "\thttps://drive.google.com/uc?id=1TLKj9I7DvHoOl8L-wEZg2p1WsjuIGDQQ\n",
      "\n",
      "but Gdown can't. Please check connections and permissions.\n",
      "Inicio de la descarga: Sala de Situación Provincia del Chubut. Año 2023.\n",
      "Error al descargar Sala de Situación Provincia del Chubut. Año 2023.: Failed to retrieve file url:\n",
      "\n",
      "\tCannot retrieve the public link of the file. You may need to change\n",
      "\tthe permission to 'Anyone with the link', or have had many accesses.\n",
      "\tCheck FAQ in https://github.com/wkentaro/gdown?tab=readme-ov-file#faq.\n",
      "\n",
      "You may still be able to access the file from the browser:\n",
      "\n",
      "\thttps://drive.google.com/uc?id=1zi3VNjm_Z7gvutSOXgJF2xaj8GAi0KzT\n",
      "\n",
      "but Gdown can't. Please check connections and permissions.\n",
      "Inicio de la descarga: Boletin EpiChubut SE51-2024\n",
      "Error al descargar Boletin EpiChubut SE51-2024: Failed to retrieve file url:\n",
      "\n",
      "\tCannot retrieve the public link of the file. You may need to change\n",
      "\tthe permission to 'Anyone with the link', or have had many accesses.\n",
      "\tCheck FAQ in https://github.com/wkentaro/gdown?tab=readme-ov-file#faq.\n",
      "\n",
      "You may still be able to access the file from the browser:\n",
      "\n",
      "\thttps://drive.google.com/uc?id=1jZAfbpbDldwgLJ_LEoyPO9vha1MEwNRk\n",
      "\n",
      "but Gdown can't. Please check connections and permissions.\n",
      "Inicio de la descarga: Boletin EpiChubut SE1-2025\n",
      "Error al descargar Boletin EpiChubut SE1-2025: Failed to retrieve file url:\n",
      "\n",
      "\tCannot retrieve the public link of the file. You may need to change\n",
      "\tthe permission to 'Anyone with the link', or have had many accesses.\n",
      "\tCheck FAQ in https://github.com/wkentaro/gdown?tab=readme-ov-file#faq.\n",
      "\n",
      "You may still be able to access the file from the browser:\n",
      "\n",
      "\thttps://drive.google.com/uc?id=1Wg5eP3_BS1uM0feqkxiWgDMmqqBsZI1y\n",
      "\n",
      "but Gdown can't. Please check connections and permissions.\n",
      "Inicio de la descarga: Boletin EpiChubut SE2-2025\n",
      "Error al descargar Boletin EpiChubut SE2-2025: Failed to retrieve file url:\n",
      "\n",
      "\tCannot retrieve the public link of the file. You may need to change\n",
      "\tthe permission to 'Anyone with the link', or have had many accesses.\n",
      "\tCheck FAQ in https://github.com/wkentaro/gdown?tab=readme-ov-file#faq.\n",
      "\n",
      "You may still be able to access the file from the browser:\n",
      "\n",
      "\thttps://drive.google.com/uc?id=1FEbr30LjMW65qfLSF8WbtxCEkv6g3mxR\n",
      "\n",
      "but Gdown can't. Please check connections and permissions.\n",
      "Inicio de la descarga: Boletin EpiChubut SE3-2025\n",
      "Error al descargar Boletin EpiChubut SE3-2025: Failed to retrieve file url:\n",
      "\n",
      "\tCannot retrieve the public link of the file. You may need to change\n",
      "\tthe permission to 'Anyone with the link', or have had many accesses.\n",
      "\tCheck FAQ in https://github.com/wkentaro/gdown?tab=readme-ov-file#faq.\n",
      "\n",
      "You may still be able to access the file from the browser:\n",
      "\n",
      "\thttps://drive.google.com/uc?id=1pz2THhVse6JXq8VeV7stJNLneLEg42Q8\n",
      "\n",
      "but Gdown can't. Please check connections and permissions.\n",
      "Inicio de la descarga: Boletin EpiChubut SE4-2025\n",
      "Error al descargar Boletin EpiChubut SE4-2025: Failed to retrieve file url:\n",
      "\n",
      "\tCannot retrieve the public link of the file. You may need to change\n",
      "\tthe permission to 'Anyone with the link', or have had many accesses.\n",
      "\tCheck FAQ in https://github.com/wkentaro/gdown?tab=readme-ov-file#faq.\n",
      "\n",
      "You may still be able to access the file from the browser:\n",
      "\n",
      "\thttps://drive.google.com/uc?id=1cH2Fb7KMSFO2dtw9s2gwcRMBkqGDlRJN\n",
      "\n",
      "but Gdown can't. Please check connections and permissions.\n",
      "Inicio de la descarga: Boletin EpiChubut SE5-2025\n",
      "Error al descargar Boletin EpiChubut SE5-2025: Failed to retrieve file url:\n",
      "\n",
      "\tCannot retrieve the public link of the file. You may need to change\n",
      "\tthe permission to 'Anyone with the link', or have had many accesses.\n",
      "\tCheck FAQ in https://github.com/wkentaro/gdown?tab=readme-ov-file#faq.\n",
      "\n",
      "You may still be able to access the file from the browser:\n",
      "\n",
      "\thttps://drive.google.com/uc?id=1MUm_TGJMrn3jQz0z85uEc86mEk-0foPP\n",
      "\n",
      "but Gdown can't. Please check connections and permissions.\n",
      "Inicio de la descarga: Boletín EpiChubut SE6-2025\n",
      "Error al descargar Boletín EpiChubut SE6-2025: Failed to retrieve file url:\n",
      "\n",
      "\tCannot retrieve the public link of the file. You may need to change\n",
      "\tthe permission to 'Anyone with the link', or have had many accesses.\n",
      "\tCheck FAQ in https://github.com/wkentaro/gdown?tab=readme-ov-file#faq.\n",
      "\n",
      "You may still be able to access the file from the browser:\n",
      "\n",
      "\thttps://drive.google.com/uc?id=1y5co_0gpjmxaWRecBXJMRqBGB0O2rp8u\n",
      "\n",
      "but Gdown can't. Please check connections and permissions.\n",
      "Inicio de la descarga: Boletin EpiChubut SE7-2025\n",
      "Error al descargar Boletin EpiChubut SE7-2025: Failed to retrieve file url:\n",
      "\n",
      "\tCannot retrieve the public link of the file. You may need to change\n",
      "\tthe permission to 'Anyone with the link', or have had many accesses.\n",
      "\tCheck FAQ in https://github.com/wkentaro/gdown?tab=readme-ov-file#faq.\n",
      "\n",
      "You may still be able to access the file from the browser:\n",
      "\n",
      "\thttps://drive.google.com/uc?id=1FtMTDGOS3v6aT7PwRSwLsSyPSxOC60EU\n",
      "\n",
      "but Gdown can't. Please check connections and permissions.\n",
      "Inicio de la descarga: Boletín EpiChubut SE8-2025\n",
      "Error al descargar Boletín EpiChubut SE8-2025: Failed to retrieve file url:\n",
      "\n",
      "\tCannot retrieve the public link of the file. You may need to change\n",
      "\tthe permission to 'Anyone with the link', or have had many accesses.\n",
      "\tCheck FAQ in https://github.com/wkentaro/gdown?tab=readme-ov-file#faq.\n",
      "\n",
      "You may still be able to access the file from the browser:\n",
      "\n",
      "\thttps://drive.google.com/uc?id=1dqLDWTUdQQ81fqbD6shDniChdGiY1k4c\n",
      "\n",
      "but Gdown can't. Please check connections and permissions.\n",
      "Inicio de la descarga: Circular vigilancia SE 09 AÑO 2025\n",
      "Error al descargar Circular vigilancia SE 09 AÑO 2025: Failed to retrieve file url:\n",
      "\n",
      "\tCannot retrieve the public link of the file. You may need to change\n",
      "\tthe permission to 'Anyone with the link', or have had many accesses.\n",
      "\tCheck FAQ in https://github.com/wkentaro/gdown?tab=readme-ov-file#faq.\n",
      "\n",
      "You may still be able to access the file from the browser:\n",
      "\n",
      "\thttps://drive.google.com/uc?id=1uqHxnIKvYJI7p9aNWJWdH-zG7QP3kEm6\n",
      "\n",
      "but Gdown can't. Please check connections and permissions.\n",
      "Inicio de la descarga: INFORME 1er SEMESTRE 2024: Enfermedades No Transmisibles\n",
      "Error al descargar INFORME 1er SEMESTRE 2024: Enfermedades No Transmisibles: Failed to retrieve file url:\n",
      "\n",
      "\tCannot retrieve the public link of the file. You may need to change\n",
      "\tthe permission to 'Anyone with the link', or have had many accesses.\n",
      "\tCheck FAQ in https://github.com/wkentaro/gdown?tab=readme-ov-file#faq.\n",
      "\n",
      "You may still be able to access the file from the browser:\n",
      "\n",
      "\thttps://drive.google.com/uc?id=1X0_JDENRgqjD2yv5BOohyqf3aCVSHgDA\n",
      "\n",
      "but Gdown can't. Please check connections and permissions.\n",
      "Inicio de la descarga: Análisis de Situación epidemiológica de enfermedades no transmisibles Dirección Provincial de Epidemiología\n",
      "Error al descargar Análisis de Situación epidemiológica de enfermedades no transmisibles Dirección Provincial de Epidemiología: Failed to retrieve file url:\n",
      "\n",
      "\tCannot retrieve the public link of the file. You may need to change\n",
      "\tthe permission to 'Anyone with the link', or have had many accesses.\n",
      "\tCheck FAQ in https://github.com/wkentaro/gdown?tab=readme-ov-file#faq.\n",
      "\n",
      "You may still be able to access the file from the browser:\n",
      "\n",
      "\thttps://drive.google.com/uc?id=16YuvfvTuNygUjDzGY8pxe15UoLvJhX0o\n",
      "\n",
      "but Gdown can't. Please check connections and permissions.\n",
      "Inicio de la descarga: Boletin EpiChubut SE9-2025\n",
      "Error al descargar Boletin EpiChubut SE9-2025: Failed to retrieve file url:\n",
      "\n",
      "\tCannot retrieve the public link of the file. You may need to change\n",
      "\tthe permission to 'Anyone with the link', or have had many accesses.\n",
      "\tCheck FAQ in https://github.com/wkentaro/gdown?tab=readme-ov-file#faq.\n",
      "\n",
      "You may still be able to access the file from the browser:\n",
      "\n",
      "\thttps://drive.google.com/uc?id=15f5Mv7BOJNKMYggqh5is3jepqvw79jy4\n",
      "\n",
      "but Gdown can't. Please check connections and permissions.\n",
      "Inicio de la descarga: Boletin EpiChubut SE10-2025\n",
      "Error al descargar Boletin EpiChubut SE10-2025: Failed to retrieve file url:\n",
      "\n",
      "\tCannot retrieve the public link of the file. You may need to change\n",
      "\tthe permission to 'Anyone with the link', or have had many accesses.\n",
      "\tCheck FAQ in https://github.com/wkentaro/gdown?tab=readme-ov-file#faq.\n",
      "\n",
      "You may still be able to access the file from the browser:\n",
      "\n",
      "\thttps://drive.google.com/uc?id=1y7yQFiDWY9kQaISKcvI4hNHgIUsFvAZd\n",
      "\n",
      "but Gdown can't. Please check connections and permissions.\n",
      "Inicio de la descarga: Boletin EpiChubut SE11-2025\n",
      "Error al descargar Boletin EpiChubut SE11-2025: Failed to retrieve file url:\n",
      "\n",
      "\tCannot retrieve the public link of the file. You may need to change\n",
      "\tthe permission to 'Anyone with the link', or have had many accesses.\n",
      "\tCheck FAQ in https://github.com/wkentaro/gdown?tab=readme-ov-file#faq.\n",
      "\n",
      "You may still be able to access the file from the browser:\n",
      "\n",
      "\thttps://drive.google.com/uc?id=1udjSIwR4oe2fhk6XO-a-cVANds2_vMJN\n",
      "\n",
      "but Gdown can't. Please check connections and permissions.\n",
      "Resultados guardados en pdfs/descargas_resultados.csv\n",
      "Descarga completada.\n"
     ]
    }
   ],
   "source": [
    "import os\n",
    "import time\n",
    "import requests\n",
    "import pandas as pd\n",
    "import gdown\n",
    "from bs4 import BeautifulSoup\n",
    "from typing import List, Tuple\n",
    "\n",
    "def get_pdf_links(url: str) -> List[Tuple[str, str]]:\n",
    "    \"\"\"Obtiene los enlaces de descarga de los archivos PDF junto con sus nombres.\"\"\"\n",
    "    try:\n",
    "        response = requests.get(url, timeout=10)\n",
    "        response.raise_for_status()\n",
    "    except requests.RequestException as e:\n",
    "        print(f\"Error al acceder a la página: {e}\")\n",
    "        return []\n",
    "    \n",
    "    soup = BeautifulSoup(response.text, 'html.parser')\n",
    "    links = []\n",
    "    \n",
    "    for tr in soup.find_all('tr'):\n",
    "        tds = tr.find_all('td')\n",
    "        if len(tds) > 2:\n",
    "            name = tds[0].get_text(strip=True)  # extrae el nombre desde la primera columna\n",
    "            a_tag = tds[2].find('a', href=True)  # y el enlace desde la tercera columna\n",
    "            if a_tag and 'drive.google.com' in a_tag['href']:\n",
    "                links.append((name, a_tag['href']))\n",
    "    \n",
    "    return links\n",
    "\n",
    "def download_pdfs(links: List[Tuple[str, str]], folder: str = \"pdfs\", delay: int = 2) -> None:\n",
    "    \"\"\"Descarga los archivos PDF de los enlaces proporcionados y registra el estado.\"\"\"\n",
    "    os.makedirs(folder, exist_ok=True)\n",
    "    \n",
    "    download_results = []\n",
    "    \n",
    "    for name, link in links:\n",
    "        status = \"Fallido\"\n",
    "        if \"drive.google.com\" in link:\n",
    "            try:\n",
    "                file_id = link.split(\"/d/\")[1].split(\"/\")[0]\n",
    "                download_url = f\"https://drive.google.com/uc?id={file_id}\"\n",
    "                output = os.path.join(folder, f\"{name}.pdf\")\n",
    "                print(f\"Inicio de la descarga: {name}\")\n",
    "                gdown.download(download_url, output, quiet=False)\n",
    "                \n",
    "                time.sleep(delay)\n",
    "                print(f\"Fin de la descarga: {output}\")\n",
    "                status = \"Exitoso\"\n",
    "            except Exception as e:\n",
    "                print(f\"Error al descargar {name}: {e}\")\n",
    "        \n",
    "        download_results.append({\"Nombre\": name, \"Enlace\": link, \"Estado\": status})\n",
    "    \n",
    "    df = pd.DataFrame(download_results)\n",
    "    csv_path = os.path.join(folder, \"descargas_resultados.csv\")\n",
    "    df.to_csv(csv_path, index=False)\n",
    "    print(f\"Resultados guardados en {csv_path}\")\n",
    "\n",
    "def main() -> None:\n",
    "    \"\"\"Función principal que ejecuta el proceso de scraping y descarga de PDFs.\"\"\"\n",
    "    url = \"https://secretariadesalud.chubut.gov.ar/epidemiological_releases\"\n",
    "    links = get_pdf_links(url)\n",
    "    \n",
    "    if not links:\n",
    "        print(\"No se encontraron enlaces de descarga.\")\n",
    "        return\n",
    "    \n",
    "    download_pdfs(links)\n",
    "    print(\"Descarga completada.\")\n",
    "\n",
    "if __name__ == \"__main__\":\n",
    "    main()\n"
   ]
  }
 ],
 "metadata": {
  "kernelspec": {
   "display_name": "work-env",
   "language": "python",
   "name": "python3"
  },
  "language_info": {
   "codemirror_mode": {
    "name": "ipython",
    "version": 3
   },
   "file_extension": ".py",
   "mimetype": "text/x-python",
   "name": "python",
   "nbconvert_exporter": "python",
   "pygments_lexer": "ipython3",
   "version": "3.9.20"
  }
 },
 "nbformat": 4,
 "nbformat_minor": 2
}
